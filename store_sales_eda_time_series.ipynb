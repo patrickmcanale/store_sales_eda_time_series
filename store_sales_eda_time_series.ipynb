{
 "cells": [
  {
   "cell_type": "code",
   "execution_count": 2,
   "id": "9833e91b",
   "metadata": {},
   "outputs": [
    {
     "data": {
      "text/html": [
       "        <script type=\"text/javascript\">\n",
       "        window.PlotlyConfig = {MathJaxConfig: 'local'};\n",
       "        if (window.MathJax) {MathJax.Hub.Config({SVG: {font: \"STIX-Web\"}});}\n",
       "        if (typeof require !== 'undefined') {\n",
       "        require.undef(\"plotly\");\n",
       "        requirejs.config({\n",
       "            paths: {\n",
       "                'plotly': ['https://cdn.plot.ly/plotly-2.3.1.min']\n",
       "            }\n",
       "        });\n",
       "        require(['plotly'], function(Plotly) {\n",
       "            window._Plotly = Plotly;\n",
       "        });\n",
       "        }\n",
       "        </script>\n",
       "        "
      ]
     },
     "metadata": {},
     "output_type": "display_data"
    }
   ],
   "source": [
    "import warnings\n",
    "warnings.filterwarnings(\"ignore\")\n",
    "import numpy as np\n",
    "import pandas as pd\n",
    "from pandas import datetime\n",
    "import matplotlib.pyplot as plt\n",
    "import seaborn as sns\n",
    "%matplotlib inline\n",
    "import plotly.express as px\n",
    "from plotly.subplots import make_subplots\n",
    "import plotly.figure_factory as ff\n",
    "import plotly.offline as offline\n",
    "import plotly.graph_objs as go\n",
    "offline.init_notebook_mode(connected = True)\n",
    "from statsmodels.distributions.empirical_distribution import ECDF\n",
    "from statsmodels.tsa.seasonal import seasonal_decompose\n",
    "from statsmodels.graphics.tsaplots import plot_acf, plot_pacf\n"
   ]
  },
  {
   "cell_type": "code",
   "execution_count": 8,
   "id": "05ba7e96",
   "metadata": {},
   "outputs": [
    {
     "data": {
      "text/plain": [
       "DatetimeIndex(['2013-01-01', '2013-01-01', '2013-01-01', '2013-01-01',\n",
       "               '2013-01-01', '2013-01-01', '2013-01-01', '2013-01-01',\n",
       "               '2013-01-01', '2013-01-01',\n",
       "               ...\n",
       "               '2017-08-15', '2017-08-15', '2017-08-15', '2017-08-15',\n",
       "               '2017-08-15', '2017-08-15', '2017-08-15', '2017-08-15',\n",
       "               '2017-08-15', '2017-08-15'],\n",
       "              dtype='datetime64[ns]', name='date', length=3000888, freq=None)"
      ]
     },
     "execution_count": 8,
     "metadata": {},
     "output_type": "execute_result"
    }
   ],
   "source": [
    "\n",
    "oil_data = pd.read_csv(r'C:\\Users\\patri\\Downloads\\oil.csv')\n",
    "train = pd.read_csv(r'C:\\Users\\patri\\Downloads\\train.csv(1)\\train.csv', parse_dates = True, low_memory = False, index_col = 'date')\n",
    "test = pd.read_csv(r'C:\\Users\\patri\\Downloads\\test.csv (1)\\test.csv')\n",
    "submission_sample = pd.read_csv(r'C:\\Users\\patri\\Downloads\\submission.csv')\n",
    "holidays_data = pd.read_csv(r'C:\\Users\\patri\\Downloads\\holidays_events.csv')\n",
    "store_data =  pd.read_csv(r'C:\\Users\\patri\\Downloads\\stores.csv')\n",
    "transaction_data = pd.read_csv(r'C:\\Users\\patri\\Downloads\\transactions.csv\\transactions.csv')\n",
    "\n",
    "train.index"
   ]
  },
  {
   "cell_type": "code",
   "execution_count": 9,
   "id": "85166b3b",
   "metadata": {},
   "outputs": [
    {
     "name": "stdout",
     "output_type": "stream",
     "text": [
      "Number of train samples:  (3000888, 5)\n",
      "Number of test samples:  (28512, 5)\n",
      "Number of store data:  (54, 5)\n",
      "Number of Holiday data:  (350, 6)\n",
      "Number of Oil Price data:  (1218, 2)\n",
      "Number of features:  5\n",
      "<class 'pandas.core.frame.DataFrame'>\n",
      "DatetimeIndex: 3000888 entries, 2013-01-01 to 2017-08-15\n",
      "Data columns (total 5 columns):\n",
      " #   Column       Dtype  \n",
      "---  ------       -----  \n",
      " 0   id           int64  \n",
      " 1   store_nbr    int64  \n",
      " 2   family       object \n",
      " 3   sales        float64\n",
      " 4   onpromotion  float64\n",
      "dtypes: float64(2), int64(2), object(1)\n",
      "memory usage: 137.4+ MB\n",
      "None\n",
      "Index(['id', 'store_nbr', 'family', 'sales', 'onpromotion'], dtype='object')\n",
      "            id  store_nbr      family  sales  onpromotion\n",
      "date                                                     \n",
      "2013-01-01   0          1  AUTOMOTIVE    0.0          0.0\n",
      "2013-01-01   1          1   BABY CARE    0.0          0.0\n",
      "2013-01-01   2          1      BEAUTY    0.0          0.0\n",
      "2013-01-01   3          1   BEVERAGES    0.0          0.0\n",
      "2013-01-01   4          1       BOOKS    0.0          0.0\n"
     ]
    }
   ],
   "source": [
    "print('Number of train samples: ', train.shape)\n",
    "print('Number of test samples: ', test.shape)\n",
    "print('Number of store data: ', store_data.shape)\n",
    "print('Number of Holiday data: ', holidays_data.shape)\n",
    "print('Number of Oil Price data: ', oil_data.shape)\n",
    "print('Number of features: ', len(train.columns))\n",
    "print(train.info())\n",
    "print(train.columns)\n",
    "print(train.head())\n",
    "\n",
    "#shape of the data and training info"
   ]
  },
  {
   "cell_type": "code",
   "execution_count": 10,
   "id": "1250799a",
   "metadata": {},
   "outputs": [
    {
     "data": {
      "text/plain": [
       "id             0\n",
       "store_nbr      0\n",
       "family         0\n",
       "sales          0\n",
       "onpromotion    0\n",
       "dtype: int64"
      ]
     },
     "execution_count": 10,
     "metadata": {},
     "output_type": "execute_result"
    }
   ],
   "source": [
    "\n",
    "train.isnull().sum()\n",
    "\n",
    "#null values in training data"
   ]
  },
  {
   "cell_type": "code",
   "execution_count": 11,
   "id": "698c4b42",
   "metadata": {},
   "outputs": [],
   "source": [
    "# data extraction\n",
    "\n",
    "train['Year'] = train.index.year\n",
    "train['Month'] = train.index.month\n",
    "train['Day'] = train.index.day\n",
    "train['WeekOfYear'] = train.index.weekofyear\n",
    "\n",
    "#get the year/month/day/week "
   ]
  },
  {
   "cell_type": "code",
   "execution_count": 12,
   "id": "253e37cf",
   "metadata": {},
   "outputs": [
    {
     "data": {
      "text/html": [
       "<div>\n",
       "<style scoped>\n",
       "    .dataframe tbody tr th:only-of-type {\n",
       "        vertical-align: middle;\n",
       "    }\n",
       "\n",
       "    .dataframe tbody tr th {\n",
       "        vertical-align: top;\n",
       "    }\n",
       "\n",
       "    .dataframe thead th {\n",
       "        text-align: right;\n",
       "    }\n",
       "</style>\n",
       "<table border=\"1\" class=\"dataframe\">\n",
       "  <thead>\n",
       "    <tr style=\"text-align: right;\">\n",
       "      <th></th>\n",
       "      <th>id</th>\n",
       "      <th>store_nbr</th>\n",
       "      <th>family</th>\n",
       "      <th>sales</th>\n",
       "      <th>onpromotion</th>\n",
       "      <th>Year</th>\n",
       "      <th>Month</th>\n",
       "      <th>Day</th>\n",
       "      <th>WeekOfYear</th>\n",
       "      <th>city</th>\n",
       "      <th>state</th>\n",
       "      <th>type</th>\n",
       "      <th>cluster</th>\n",
       "    </tr>\n",
       "  </thead>\n",
       "  <tbody>\n",
       "    <tr>\n",
       "      <th>0</th>\n",
       "      <td>0</td>\n",
       "      <td>1</td>\n",
       "      <td>AUTOMOTIVE</td>\n",
       "      <td>0.0</td>\n",
       "      <td>0.0</td>\n",
       "      <td>2013</td>\n",
       "      <td>1</td>\n",
       "      <td>1</td>\n",
       "      <td>1</td>\n",
       "      <td>Quito</td>\n",
       "      <td>Pichincha</td>\n",
       "      <td>D</td>\n",
       "      <td>13</td>\n",
       "    </tr>\n",
       "    <tr>\n",
       "      <th>1</th>\n",
       "      <td>1</td>\n",
       "      <td>1</td>\n",
       "      <td>BABY CARE</td>\n",
       "      <td>0.0</td>\n",
       "      <td>0.0</td>\n",
       "      <td>2013</td>\n",
       "      <td>1</td>\n",
       "      <td>1</td>\n",
       "      <td>1</td>\n",
       "      <td>Quito</td>\n",
       "      <td>Pichincha</td>\n",
       "      <td>D</td>\n",
       "      <td>13</td>\n",
       "    </tr>\n",
       "    <tr>\n",
       "      <th>2</th>\n",
       "      <td>2</td>\n",
       "      <td>1</td>\n",
       "      <td>BEAUTY</td>\n",
       "      <td>0.0</td>\n",
       "      <td>0.0</td>\n",
       "      <td>2013</td>\n",
       "      <td>1</td>\n",
       "      <td>1</td>\n",
       "      <td>1</td>\n",
       "      <td>Quito</td>\n",
       "      <td>Pichincha</td>\n",
       "      <td>D</td>\n",
       "      <td>13</td>\n",
       "    </tr>\n",
       "    <tr>\n",
       "      <th>3</th>\n",
       "      <td>3</td>\n",
       "      <td>1</td>\n",
       "      <td>BEVERAGES</td>\n",
       "      <td>0.0</td>\n",
       "      <td>0.0</td>\n",
       "      <td>2013</td>\n",
       "      <td>1</td>\n",
       "      <td>1</td>\n",
       "      <td>1</td>\n",
       "      <td>Quito</td>\n",
       "      <td>Pichincha</td>\n",
       "      <td>D</td>\n",
       "      <td>13</td>\n",
       "    </tr>\n",
       "    <tr>\n",
       "      <th>4</th>\n",
       "      <td>4</td>\n",
       "      <td>1</td>\n",
       "      <td>BOOKS</td>\n",
       "      <td>0.0</td>\n",
       "      <td>0.0</td>\n",
       "      <td>2013</td>\n",
       "      <td>1</td>\n",
       "      <td>1</td>\n",
       "      <td>1</td>\n",
       "      <td>Quito</td>\n",
       "      <td>Pichincha</td>\n",
       "      <td>D</td>\n",
       "      <td>13</td>\n",
       "    </tr>\n",
       "  </tbody>\n",
       "</table>\n",
       "</div>"
      ],
      "text/plain": [
       "   id  store_nbr      family  sales  onpromotion  Year  Month  Day  \\\n",
       "0   0          1  AUTOMOTIVE    0.0          0.0  2013      1    1   \n",
       "1   1          1   BABY CARE    0.0          0.0  2013      1    1   \n",
       "2   2          1      BEAUTY    0.0          0.0  2013      1    1   \n",
       "3   3          1   BEVERAGES    0.0          0.0  2013      1    1   \n",
       "4   4          1       BOOKS    0.0          0.0  2013      1    1   \n",
       "\n",
       "   WeekOfYear   city      state type  cluster  \n",
       "0           1  Quito  Pichincha    D       13  \n",
       "1           1  Quito  Pichincha    D       13  \n",
       "2           1  Quito  Pichincha    D       13  \n",
       "3           1  Quito  Pichincha    D       13  \n",
       "4           1  Quito  Pichincha    D       13  "
      ]
     },
     "execution_count": 12,
     "metadata": {},
     "output_type": "execute_result"
    }
   ],
   "source": [
    "train_store=train.merge(store_data, on = 'store_nbr', how='left')\n",
    "train_store.head()\n",
    "\n",
    "#merge the training data and store data"
   ]
  },
  {
   "cell_type": "code",
   "execution_count": 13,
   "id": "e64c2c9e",
   "metadata": {},
   "outputs": [
    {
     "name": "stdout",
     "output_type": "stream",
     "text": [
      "Index : id, Value : 3000888\n",
      "**************************************************\n",
      "skipping id\n",
      "More than 50 unique elements\n",
      "**************************************************\n",
      "Index : store_nbr, Value : 54\n",
      "**************************************************\n",
      "skipping store_nbr\n",
      "More than 50 unique elements\n",
      "**************************************************\n",
      "Index : family, Value : 33\n",
      "**************************************************\n",
      "keys\n",
      "**************************************************\n",
      "['AUTOMOTIVE' 'BABY CARE' 'BEAUTY' 'BEVERAGES' 'BOOKS' 'BREAD/BAKERY'\n",
      " 'CELEBRATION' 'CLEANING' 'DAIRY' 'DELI' 'EGGS' 'FROZEN FOODS' 'GROCERY I'\n",
      " 'GROCERY II' 'HARDWARE' 'HOME AND KITCHEN I' 'HOME AND KITCHEN II'\n",
      " 'HOME APPLIANCES' 'HOME CARE' 'LADIESWEAR' 'LAWN AND GARDEN' 'LINGERIE'\n",
      " 'LIQUOR,WINE,BEER' 'MAGAZINES' 'MEATS' 'PERSONAL CARE' 'PET SUPPLIES'\n",
      " 'PLAYERS AND ELECTRONICS' 'POULTRY' 'PREPARED FOODS' 'PRODUCE'\n",
      " 'SCHOOL AND OFFICE SUPPLIES' 'SEAFOOD']\n",
      "Index : sales, Value : 379610\n",
      "**************************************************\n",
      "skipping sales\n",
      "More than 50 unique elements\n",
      "**************************************************\n",
      "Index : onpromotion, Value : 991\n",
      "**************************************************\n",
      "skipping onpromotion\n",
      "More than 50 unique elements\n",
      "**************************************************\n",
      "Index : Year, Value : 5\n",
      "**************************************************\n",
      "keys\n",
      "**************************************************\n",
      "[2013 2014 2015 2016 2017]\n",
      "Index : Month, Value : 12\n",
      "**************************************************\n",
      "keys\n",
      "**************************************************\n",
      "[ 1  2  3  4  5  6  7  8  9 10 11 12]\n",
      "Index : Day, Value : 31\n",
      "**************************************************\n",
      "keys\n",
      "**************************************************\n",
      "[ 1  2  3  4  5  6  7  8  9 10 11 12 13 14 15 16 17 18 19 20 21 22 23 24\n",
      " 25 26 27 28 29 30 31]\n",
      "Index : WeekOfYear, Value : 53\n",
      "**************************************************\n",
      "skipping WeekOfYear\n",
      "More than 50 unique elements\n",
      "**************************************************\n",
      "Index : city, Value : 22\n",
      "**************************************************\n",
      "keys\n",
      "**************************************************\n",
      "['Quito' 'Cayambe' 'Latacunga' 'Riobamba' 'Ibarra' 'Santo Domingo'\n",
      " 'Guaranda' 'Puyo' 'Ambato' 'Guayaquil' 'Salinas' 'Daule' 'Babahoyo'\n",
      " 'Quevedo' 'Playas' 'Libertad' 'Cuenca' 'Loja' 'Machala' 'Esmeraldas'\n",
      " 'Manta' 'El Carmen']\n",
      "Index : state, Value : 16\n",
      "**************************************************\n",
      "keys\n",
      "**************************************************\n",
      "['Pichincha' 'Cotopaxi' 'Chimborazo' 'Imbabura'\n",
      " 'Santo Domingo de los Tsachilas' 'Bolivar' 'Pastaza' 'Tungurahua'\n",
      " 'Guayas' 'Santa Elena' 'Los Rios' 'Azuay' 'Loja' 'El Oro' 'Esmeraldas'\n",
      " 'Manabi']\n",
      "Index : type, Value : 5\n",
      "**************************************************\n",
      "keys\n",
      "**************************************************\n",
      "['D' 'C' 'B' 'E' 'A']\n",
      "Index : cluster, Value : 17\n",
      "**************************************************\n",
      "keys\n",
      "**************************************************\n",
      "[13 15  6  7  3 12 16  9  1 10  8  2  4  5 11 14 17]\n"
     ]
    }
   ],
   "source": [
    "ts_unique = train_store.nunique()\n",
    "for index, value in ts_unique.items():\n",
    "    print(f\"Index : {index}, Value : {value}\")\n",
    "    if value < 50:\n",
    "        print('*'*50)\n",
    "        print('keys')\n",
    "        print('*'*50)\n",
    "        print(train_store[index].unique())\n",
    "    else:\n",
    "        print('*'*50)\n",
    "        print('skipping', index)\n",
    "        print('More than 50 unique elements')\n",
    "        print('*'*50)\n",
    "        \n",
    "#check for unique values"
   ]
  },
  {
   "cell_type": "code",
   "execution_count": 16,
   "id": "015e0052",
   "metadata": {},
   "outputs": [],
   "source": [
    "import random\n",
    "def random_color():\n",
    "    return \"#{}{}{}{}{}{}\".format(*(random.choice(\"0123456789abcdef\") for _ in range(6)))\n",
    "\n",
    "# data\n",
    "\n",
    "ts_sales_type = train_store.groupby('type').agg({\"sales\" : \"mean\"}).reset_index().sort_values(by='sales', ascending=False)\n",
    "ts_sales_family = train_store.groupby('family').agg({\"sales\" : \"mean\"}).reset_index().sort_values(by='sales', ascending=False)[:20]\n",
    "ts_sales_cluster = train_store.groupby('cluster').agg({\"sales\" : \"mean\"}).reset_index().sort_values(by='sales', ascending=False) \n",
    "ts_sales_state = train_store.groupby('state').agg({\"sales\" : \"mean\"}).reset_index().sort_values(by='sales', ascending=False)\n",
    "ts_sales_city = train_store.groupby('city').agg({\"sales\" : \"mean\"}).reset_index().sort_values(by='sales', ascending=False)\n",
    "\n",
    "#group by type/family/cluster/state/city and aggregate by the sales mean and reset the index"
   ]
  },
  {
   "cell_type": "code",
   "execution_count": 17,
   "id": "b7b3a2bc",
   "metadata": {},
   "outputs": [],
   "source": [
    "ts_sales_type['color'] = [random_color() for _ in range(len(ts_sales_type))]\n",
    "ts_sales_type['color'][3:] = [random_color() for _ in range(len(ts_sales_type[3:]))]\n",
    "ts_sales_family['color'] = [random_color() for _ in range(len(ts_sales_family))]\n",
    "ts_sales_cluster['color'] = [random_color() for _ in range(len(ts_sales_cluster))]\n",
    "ts_sales_state['color'] = [random_color() for _ in range(len(ts_sales_state))]\n",
    "ts_sales_city['color'] = [random_color() for _ in range(len(ts_sales_city))]"
   ]
  },
  {
   "cell_type": "code",
   "execution_count": 18,
   "id": "60958196",
   "metadata": {},
   "outputs": [
    {
     "data": {
      "application/vnd.plotly.v1+json": {
       "config": {
        "plotlyServerURL": "https://plot.ly"
       },
       "data": [
        {
         "marker": {
          "color": [
           "#b5da5c",
           "#b941f4",
           "#70b4b5",
           "#786c6f",
           "#51b566",
           "#f0f99b",
           "#d7ba3b",
           "#7736f5",
           "#ecbc52",
           "#d66a15",
           "#bfe066",
           "#998f33",
           "#c91956",
           "#584fa5",
           "#bf509a",
           "#8ece31",
           "#42477a",
           "#8e2825",
           "#7d5a25",
           "#17cc95"
          ]
         },
         "name": "Family",
         "orientation": "h",
         "type": "bar",
         "x": [
          3776.9721000044483,
          2385.7931512272366,
          1349.3521232125959,
          1072.4167436438813,
          709.1548891528108,
          463.3362538089327,
          350.5322916306098,
          341.8499648552267,
          270.43251297615905,
          265.13506717655184,
          176.19802938330255,
          171.4205155274039,
          154.76695390066035,
          96.77020230648442,
          85.18782440397642,
          22.163190406699307,
          21.58404812175596,
          20.470341778833465,
          16.722420163631565,
          8.370469341075042
         ],
         "xaxis": "x",
         "y": [
          "GROCERY I",
          "BEVERAGES",
          "PRODUCE",
          "CLEANING",
          "DAIRY",
          "BREAD/BAKERY",
          "POULTRY",
          "MEATS",
          "PERSONAL CARE",
          "DELI",
          "HOME CARE",
          "EGGS",
          "FROZEN FOODS",
          "PREPARED FOODS",
          "LIQUOR,WINE,BEER",
          "SEAFOOD",
          "GROCERY II",
          "HOME AND KITCHEN I",
          "HOME AND KITCHEN II",
          "CELEBRATION"
         ],
         "yaxis": "y"
        },
        {
         "domain": {
          "x": [
           0.51,
           1
          ],
          "y": [
           0.8,
           1
          ]
         },
         "hole": 0.30000000000000004,
         "hoverinfo": "label+percent+value",
         "labels": [
          "A",
          "D",
          "B",
          "E",
          "C"
         ],
         "marker": {
          "colors": [
           "#b5da5c",
           "#b941f4",
           "#70b4b5",
           "#786c6f",
           "#51b566",
           "#f0f99b",
           "#d7ba3b",
           "#7736f5",
           "#ecbc52",
           "#d66a15",
           "#bfe066",
           "#998f33",
           "#c91956",
           "#584fa5",
           "#bf509a",
           "#8ece31",
           "#42477a",
           "#8e2825",
           "#7d5a25",
           "#17cc95"
          ]
         },
         "name": "Store Type",
         "textinfo": "label",
         "type": "pie",
         "values": [
          705.8787434972405,
          350.9794069592691,
          326.73971409462433,
          269.12130136803165,
          197.26330114068872
         ]
        },
        {
         "marker": {
          "color": [
           "#626a6f",
           "#67250f",
           "#8f6c5d",
           "#f63866",
           "#11cea4",
           "#2dcdc9",
           "#b472e0",
           "#193dc3",
           "#103e70",
           "#dcad4d",
           "#857259",
           "#c54d27",
           "#ce0cb5",
           "#0aa42a",
           "#a1927a",
           "#511a66",
           "#d36549"
          ]
         },
         "name": "Cluster",
         "orientation": "h",
         "type": "bar",
         "x": [
          1117.2452539064425,
          708.2277184610604,
          647.3778563309344,
          603.50701752496,
          592.2315111495728,
          342.66173235298555,
          326.1639672006416,
          324.4614059267437,
          324.3641077968915,
          296.572872258617,
          274.9683388658836,
          260.170620992955,
          255.8975456221041,
          238.59813736961632,
          199.0101107407324,
          194.41626167148695,
          139.26186288974677
         ],
         "xaxis": "x3",
         "y": [
          5,
          14,
          8,
          11,
          17,
          6,
          1,
          12,
          13,
          4,
          9,
          2,
          10,
          16,
          15,
          3,
          7
         ],
         "yaxis": "y3"
        },
        {
         "domain": {
          "x": [
           0,
           0.49
          ],
          "y": [
           0.4,
           0.6000000000000001
          ]
         },
         "hole": 0.5,
         "hoverinfo": "label+percent+value",
         "labels": [
          "Pichincha",
          "Tungurahua",
          "Loja",
          "El Oro",
          "Esmeraldas",
          "Azuay",
          "Los Rios",
          "Guayas",
          "Bolivar",
          "Santo Domingo de los Tsachilas",
          "Imbabura",
          "Santa Elena",
          "Chimborazo",
          "Cotopaxi",
          "Manabi",
          "Pastaza"
         ],
         "marker": {
          "colors": [
           "#510c4d",
           "#d47712",
           "#a7ae49",
           "#0d0382",
           "#3fa497",
           "#0284be",
           "#2ec4a6",
           "#a75ece",
           "#1bc7a8",
           "#b3b09c",
           "#00a842",
           "#37761f",
           "#a4d9b4",
           "#901696",
           "#354744",
           "#1da307"
          ]
         },
         "name": "State",
         "textinfo": "label",
         "type": "pie",
         "values": [
          554.1103578377106,
          362.6322725437627,
          339.3795303485512,
          300.392252794144,
          294.96315072175923,
          294.924278612619,
          287.24334192539334,
          270.1726709684353,
          234.82166984691992,
          214.9423152985462,
          206.06186609530045,
          205.51712863626395,
          204.92188059126914,
          190.58396112409076,
          149.7745875251142,
          73.60184518822433
         ]
        },
        {
         "marker": {
          "color": [
           "#960103",
           "#ed6af7",
           "#4a0f9d",
           "#d391dd",
           "#19fbc6",
           "#268460",
           "#89af9d",
           "#4f13e8",
           "#0edf12",
           "#a6422f",
           "#581d33",
           "#044830",
           "#377e99",
           "#5270c2",
           "#242fe7",
           "#c06149",
           "#072aef",
           "#518ea8",
           "#c48343",
           "#e5fa2c",
           "#e2d25e",
           "#f30715"
          ]
         },
         "name": "City",
         "type": "bar",
         "x": [
          "Quito",
          "Cayambe",
          "Ambato",
          "Daule",
          "Loja",
          "Babahoyo",
          "Machala",
          "Esmeraldas",
          "Cuenca",
          "Guayaquil",
          "Libertad",
          "Quevedo",
          "Guaranda",
          "Santo Domingo",
          "Ibarra",
          "Salinas",
          "Riobamba",
          "El Carmen",
          "Latacunga",
          "Playas",
          "Manta",
          "Puyo"
         ],
         "xaxis": "x5",
         "y": [
          556.5770900093582,
          509.7091787482188,
          362.6322725437627,
          345.2821813419388,
          339.3795303485512,
          319.34918126946815,
          300.392252794144,
          294.96315072175923,
          294.924278612619,
          276.59446412279846,
          275.7221459831931,
          255.13750258131876,
          234.82166984691992,
          214.9423152985462,
          206.06186609530045,
          205.51712863626395,
          204.92188059126914,
          198.97579928569937,
          190.58396112409076,
          138.13934034531036,
          125.17398164482185,
          73.60184518822433
         ],
         "yaxis": "y5"
        }
       ],
       "layout": {
        "annotations": [
         {
          "font": {
           "size": 16
          },
          "showarrow": false,
          "text": "Average Product Sales",
          "x": 0.245,
          "xanchor": "center",
          "xref": "paper",
          "y": 1,
          "yanchor": "bottom",
          "yref": "paper"
         },
         {
          "font": {
           "size": 16
          },
          "showarrow": false,
          "text": "Highest Average Sales in Store Types",
          "x": 0.755,
          "xanchor": "center",
          "xref": "paper",
          "y": 1,
          "yanchor": "bottom",
          "yref": "paper"
         },
         {
          "font": {
           "size": 16
          },
          "showarrow": false,
          "text": "\n",
          "x": 0.5,
          "xanchor": "center",
          "xref": "paper",
          "y": 0.8,
          "yanchor": "bottom",
          "yref": "paper"
         },
         {
          "font": {
           "size": 16
          },
          "showarrow": false,
          "text": "\nAverage Sales per State",
          "x": 0.245,
          "xanchor": "center",
          "xref": "paper",
          "y": 0.6000000000000001,
          "yanchor": "bottom",
          "yref": "paper"
         },
         {
          "font": {
           "size": 16
          },
          "showarrow": false,
          "text": "Average Sales per Cluster",
          "x": 0.755,
          "xanchor": "center",
          "xref": "paper",
          "y": 0.6000000000000001,
          "yanchor": "bottom",
          "yref": "paper"
         },
         {
          "font": {
           "size": 16
          },
          "showarrow": false,
          "text": "\n",
          "x": 0.5,
          "xanchor": "center",
          "xref": "paper",
          "y": 0.4,
          "yanchor": "bottom",
          "yref": "paper"
         },
         {
          "font": {
           "size": 16
          },
          "showarrow": false,
          "text": "\nAverage Sales per City",
          "x": 0.5,
          "xanchor": "center",
          "xref": "paper",
          "y": 0.2,
          "yanchor": "bottom",
          "yref": "paper"
         }
        ],
        "bargap": 0.3,
        "font": {
         "color": "#90449c"
        },
        "height": 1800,
        "hoverlabel": {
         "bgcolor": "#45ffbc",
         "font": {
          "family": "Roboto, sans-serif",
          "size": 15
         }
        },
        "margin": {
         "b": 10,
         "l": 20,
         "r": 20
        },
        "showlegend": false,
        "template": {
         "data": {
          "bar": [
           {
            "error_x": {
             "color": "#2a3f5f"
            },
            "error_y": {
             "color": "#2a3f5f"
            },
            "marker": {
             "line": {
              "color": "white",
              "width": 0.5
             },
             "pattern": {
              "fillmode": "overlay",
              "size": 10,
              "solidity": 0.2
             }
            },
            "type": "bar"
           }
          ],
          "barpolar": [
           {
            "marker": {
             "line": {
              "color": "white",
              "width": 0.5
             },
             "pattern": {
              "fillmode": "overlay",
              "size": 10,
              "solidity": 0.2
             }
            },
            "type": "barpolar"
           }
          ],
          "carpet": [
           {
            "aaxis": {
             "endlinecolor": "#2a3f5f",
             "gridcolor": "#C8D4E3",
             "linecolor": "#C8D4E3",
             "minorgridcolor": "#C8D4E3",
             "startlinecolor": "#2a3f5f"
            },
            "baxis": {
             "endlinecolor": "#2a3f5f",
             "gridcolor": "#C8D4E3",
             "linecolor": "#C8D4E3",
             "minorgridcolor": "#C8D4E3",
             "startlinecolor": "#2a3f5f"
            },
            "type": "carpet"
           }
          ],
          "choropleth": [
           {
            "colorbar": {
             "outlinewidth": 0,
             "ticks": ""
            },
            "type": "choropleth"
           }
          ],
          "contour": [
           {
            "colorbar": {
             "outlinewidth": 0,
             "ticks": ""
            },
            "colorscale": [
             [
              0,
              "#0d0887"
             ],
             [
              0.1111111111111111,
              "#46039f"
             ],
             [
              0.2222222222222222,
              "#7201a8"
             ],
             [
              0.3333333333333333,
              "#9c179e"
             ],
             [
              0.4444444444444444,
              "#bd3786"
             ],
             [
              0.5555555555555556,
              "#d8576b"
             ],
             [
              0.6666666666666666,
              "#ed7953"
             ],
             [
              0.7777777777777778,
              "#fb9f3a"
             ],
             [
              0.8888888888888888,
              "#fdca26"
             ],
             [
              1,
              "#f0f921"
             ]
            ],
            "type": "contour"
           }
          ],
          "contourcarpet": [
           {
            "colorbar": {
             "outlinewidth": 0,
             "ticks": ""
            },
            "type": "contourcarpet"
           }
          ],
          "heatmap": [
           {
            "colorbar": {
             "outlinewidth": 0,
             "ticks": ""
            },
            "colorscale": [
             [
              0,
              "#0d0887"
             ],
             [
              0.1111111111111111,
              "#46039f"
             ],
             [
              0.2222222222222222,
              "#7201a8"
             ],
             [
              0.3333333333333333,
              "#9c179e"
             ],
             [
              0.4444444444444444,
              "#bd3786"
             ],
             [
              0.5555555555555556,
              "#d8576b"
             ],
             [
              0.6666666666666666,
              "#ed7953"
             ],
             [
              0.7777777777777778,
              "#fb9f3a"
             ],
             [
              0.8888888888888888,
              "#fdca26"
             ],
             [
              1,
              "#f0f921"
             ]
            ],
            "type": "heatmap"
           }
          ],
          "heatmapgl": [
           {
            "colorbar": {
             "outlinewidth": 0,
             "ticks": ""
            },
            "colorscale": [
             [
              0,
              "#0d0887"
             ],
             [
              0.1111111111111111,
              "#46039f"
             ],
             [
              0.2222222222222222,
              "#7201a8"
             ],
             [
              0.3333333333333333,
              "#9c179e"
             ],
             [
              0.4444444444444444,
              "#bd3786"
             ],
             [
              0.5555555555555556,
              "#d8576b"
             ],
             [
              0.6666666666666666,
              "#ed7953"
             ],
             [
              0.7777777777777778,
              "#fb9f3a"
             ],
             [
              0.8888888888888888,
              "#fdca26"
             ],
             [
              1,
              "#f0f921"
             ]
            ],
            "type": "heatmapgl"
           }
          ],
          "histogram": [
           {
            "marker": {
             "pattern": {
              "fillmode": "overlay",
              "size": 10,
              "solidity": 0.2
             }
            },
            "type": "histogram"
           }
          ],
          "histogram2d": [
           {
            "colorbar": {
             "outlinewidth": 0,
             "ticks": ""
            },
            "colorscale": [
             [
              0,
              "#0d0887"
             ],
             [
              0.1111111111111111,
              "#46039f"
             ],
             [
              0.2222222222222222,
              "#7201a8"
             ],
             [
              0.3333333333333333,
              "#9c179e"
             ],
             [
              0.4444444444444444,
              "#bd3786"
             ],
             [
              0.5555555555555556,
              "#d8576b"
             ],
             [
              0.6666666666666666,
              "#ed7953"
             ],
             [
              0.7777777777777778,
              "#fb9f3a"
             ],
             [
              0.8888888888888888,
              "#fdca26"
             ],
             [
              1,
              "#f0f921"
             ]
            ],
            "type": "histogram2d"
           }
          ],
          "histogram2dcontour": [
           {
            "colorbar": {
             "outlinewidth": 0,
             "ticks": ""
            },
            "colorscale": [
             [
              0,
              "#0d0887"
             ],
             [
              0.1111111111111111,
              "#46039f"
             ],
             [
              0.2222222222222222,
              "#7201a8"
             ],
             [
              0.3333333333333333,
              "#9c179e"
             ],
             [
              0.4444444444444444,
              "#bd3786"
             ],
             [
              0.5555555555555556,
              "#d8576b"
             ],
             [
              0.6666666666666666,
              "#ed7953"
             ],
             [
              0.7777777777777778,
              "#fb9f3a"
             ],
             [
              0.8888888888888888,
              "#fdca26"
             ],
             [
              1,
              "#f0f921"
             ]
            ],
            "type": "histogram2dcontour"
           }
          ],
          "mesh3d": [
           {
            "colorbar": {
             "outlinewidth": 0,
             "ticks": ""
            },
            "type": "mesh3d"
           }
          ],
          "parcoords": [
           {
            "line": {
             "colorbar": {
              "outlinewidth": 0,
              "ticks": ""
             }
            },
            "type": "parcoords"
           }
          ],
          "pie": [
           {
            "automargin": true,
            "type": "pie"
           }
          ],
          "scatter": [
           {
            "marker": {
             "colorbar": {
              "outlinewidth": 0,
              "ticks": ""
             }
            },
            "type": "scatter"
           }
          ],
          "scatter3d": [
           {
            "line": {
             "colorbar": {
              "outlinewidth": 0,
              "ticks": ""
             }
            },
            "marker": {
             "colorbar": {
              "outlinewidth": 0,
              "ticks": ""
             }
            },
            "type": "scatter3d"
           }
          ],
          "scattercarpet": [
           {
            "marker": {
             "colorbar": {
              "outlinewidth": 0,
              "ticks": ""
             }
            },
            "type": "scattercarpet"
           }
          ],
          "scattergeo": [
           {
            "marker": {
             "colorbar": {
              "outlinewidth": 0,
              "ticks": ""
             }
            },
            "type": "scattergeo"
           }
          ],
          "scattergl": [
           {
            "marker": {
             "colorbar": {
              "outlinewidth": 0,
              "ticks": ""
             }
            },
            "type": "scattergl"
           }
          ],
          "scattermapbox": [
           {
            "marker": {
             "colorbar": {
              "outlinewidth": 0,
              "ticks": ""
             }
            },
            "type": "scattermapbox"
           }
          ],
          "scatterpolar": [
           {
            "marker": {
             "colorbar": {
              "outlinewidth": 0,
              "ticks": ""
             }
            },
            "type": "scatterpolar"
           }
          ],
          "scatterpolargl": [
           {
            "marker": {
             "colorbar": {
              "outlinewidth": 0,
              "ticks": ""
             }
            },
            "type": "scatterpolargl"
           }
          ],
          "scatterternary": [
           {
            "marker": {
             "colorbar": {
              "outlinewidth": 0,
              "ticks": ""
             }
            },
            "type": "scatterternary"
           }
          ],
          "surface": [
           {
            "colorbar": {
             "outlinewidth": 0,
             "ticks": ""
            },
            "colorscale": [
             [
              0,
              "#0d0887"
             ],
             [
              0.1111111111111111,
              "#46039f"
             ],
             [
              0.2222222222222222,
              "#7201a8"
             ],
             [
              0.3333333333333333,
              "#9c179e"
             ],
             [
              0.4444444444444444,
              "#bd3786"
             ],
             [
              0.5555555555555556,
              "#d8576b"
             ],
             [
              0.6666666666666666,
              "#ed7953"
             ],
             [
              0.7777777777777778,
              "#fb9f3a"
             ],
             [
              0.8888888888888888,
              "#fdca26"
             ],
             [
              1,
              "#f0f921"
             ]
            ],
            "type": "surface"
           }
          ],
          "table": [
           {
            "cells": {
             "fill": {
              "color": "#EBF0F8"
             },
             "line": {
              "color": "white"
             }
            },
            "header": {
             "fill": {
              "color": "#C8D4E3"
             },
             "line": {
              "color": "white"
             }
            },
            "type": "table"
           }
          ]
         },
         "layout": {
          "annotationdefaults": {
           "arrowcolor": "#2a3f5f",
           "arrowhead": 0,
           "arrowwidth": 1
          },
          "autotypenumbers": "strict",
          "coloraxis": {
           "colorbar": {
            "outlinewidth": 0,
            "ticks": ""
           }
          },
          "colorscale": {
           "diverging": [
            [
             0,
             "#8e0152"
            ],
            [
             0.1,
             "#c51b7d"
            ],
            [
             0.2,
             "#de77ae"
            ],
            [
             0.3,
             "#f1b6da"
            ],
            [
             0.4,
             "#fde0ef"
            ],
            [
             0.5,
             "#f7f7f7"
            ],
            [
             0.6,
             "#e6f5d0"
            ],
            [
             0.7,
             "#b8e186"
            ],
            [
             0.8,
             "#7fbc41"
            ],
            [
             0.9,
             "#4d9221"
            ],
            [
             1,
             "#276419"
            ]
           ],
           "sequential": [
            [
             0,
             "#0d0887"
            ],
            [
             0.1111111111111111,
             "#46039f"
            ],
            [
             0.2222222222222222,
             "#7201a8"
            ],
            [
             0.3333333333333333,
             "#9c179e"
            ],
            [
             0.4444444444444444,
             "#bd3786"
            ],
            [
             0.5555555555555556,
             "#d8576b"
            ],
            [
             0.6666666666666666,
             "#ed7953"
            ],
            [
             0.7777777777777778,
             "#fb9f3a"
            ],
            [
             0.8888888888888888,
             "#fdca26"
            ],
            [
             1,
             "#f0f921"
            ]
           ],
           "sequentialminus": [
            [
             0,
             "#0d0887"
            ],
            [
             0.1111111111111111,
             "#46039f"
            ],
            [
             0.2222222222222222,
             "#7201a8"
            ],
            [
             0.3333333333333333,
             "#9c179e"
            ],
            [
             0.4444444444444444,
             "#bd3786"
            ],
            [
             0.5555555555555556,
             "#d8576b"
            ],
            [
             0.6666666666666666,
             "#ed7953"
            ],
            [
             0.7777777777777778,
             "#fb9f3a"
            ],
            [
             0.8888888888888888,
             "#fdca26"
            ],
            [
             1,
             "#f0f921"
            ]
           ]
          },
          "colorway": [
           "#636efa",
           "#EF553B",
           "#00cc96",
           "#ab63fa",
           "#FFA15A",
           "#19d3f3",
           "#FF6692",
           "#B6E880",
           "#FF97FF",
           "#FECB52"
          ],
          "font": {
           "color": "#2a3f5f"
          },
          "geo": {
           "bgcolor": "white",
           "lakecolor": "white",
           "landcolor": "white",
           "showlakes": true,
           "showland": true,
           "subunitcolor": "#C8D4E3"
          },
          "hoverlabel": {
           "align": "left"
          },
          "hovermode": "closest",
          "mapbox": {
           "style": "light"
          },
          "paper_bgcolor": "white",
          "plot_bgcolor": "white",
          "polar": {
           "angularaxis": {
            "gridcolor": "#EBF0F8",
            "linecolor": "#EBF0F8",
            "ticks": ""
           },
           "bgcolor": "white",
           "radialaxis": {
            "gridcolor": "#EBF0F8",
            "linecolor": "#EBF0F8",
            "ticks": ""
           }
          },
          "scene": {
           "xaxis": {
            "backgroundcolor": "white",
            "gridcolor": "#DFE8F3",
            "gridwidth": 2,
            "linecolor": "#EBF0F8",
            "showbackground": true,
            "ticks": "",
            "zerolinecolor": "#EBF0F8"
           },
           "yaxis": {
            "backgroundcolor": "white",
            "gridcolor": "#DFE8F3",
            "gridwidth": 2,
            "linecolor": "#EBF0F8",
            "showbackground": true,
            "ticks": "",
            "zerolinecolor": "#EBF0F8"
           },
           "zaxis": {
            "backgroundcolor": "white",
            "gridcolor": "#DFE8F3",
            "gridwidth": 2,
            "linecolor": "#EBF0F8",
            "showbackground": true,
            "ticks": "",
            "zerolinecolor": "#EBF0F8"
           }
          },
          "shapedefaults": {
           "line": {
            "color": "#2a3f5f"
           }
          },
          "ternary": {
           "aaxis": {
            "gridcolor": "#DFE8F3",
            "linecolor": "#A2B1C6",
            "ticks": ""
           },
           "baxis": {
            "gridcolor": "#DFE8F3",
            "linecolor": "#A2B1C6",
            "ticks": ""
           },
           "bgcolor": "white",
           "caxis": {
            "gridcolor": "#DFE8F3",
            "linecolor": "#A2B1C6",
            "ticks": ""
           }
          },
          "title": {
           "x": 0.05
          },
          "xaxis": {
           "automargin": true,
           "gridcolor": "#EBF0F8",
           "linecolor": "#EBF0F8",
           "ticks": "",
           "title": {
            "standoff": 15
           },
           "zerolinecolor": "#EBF0F8",
           "zerolinewidth": 2
          },
          "yaxis": {
           "automargin": true,
           "gridcolor": "#EBF0F8",
           "linecolor": "#EBF0F8",
           "ticks": "",
           "title": {
            "standoff": 15
           },
           "zerolinecolor": "#EBF0F8",
           "zerolinewidth": 2
          }
         }
        },
        "title": {
         "font": {
          "color": "#65bdc2",
          "family": "Roboto, sans-serif",
          "size": 25
         },
         "text": "Average Sales Analysis",
         "x": 0.5
        },
        "xaxis": {
         "anchor": "y",
         "domain": [
          0,
          0.49
         ],
         "tickmode": "linear",
         "visible": false
        },
        "xaxis2": {
         "anchor": "y2",
         "domain": [
          0,
          1
         ]
        },
        "xaxis3": {
         "anchor": "y3",
         "domain": [
          0.51,
          1
         ],
         "tickmode": "array",
         "ticktext": [
          1,
          2,
          3,
          4,
          5,
          6,
          7,
          8,
          9,
          10,
          11,
          12,
          13,
          14,
          15,
          16
         ],
         "tickvals": [
          5,
          14,
          8,
          11,
          17,
          6,
          1,
          12,
          13,
          4,
          9,
          2,
          10,
          16,
          15,
          3,
          7
         ],
         "visible": false
        },
        "xaxis4": {
         "anchor": "y4",
         "domain": [
          0,
          1
         ]
        },
        "xaxis5": {
         "anchor": "y5",
         "domain": [
          0,
          1
         ]
        },
        "yaxis": {
         "anchor": "x",
         "categoryorder": "total ascending",
         "domain": [
          0.8,
          1
         ],
         "showgrid": false,
         "ticksuffix": " "
        },
        "yaxis2": {
         "anchor": "x2",
         "domain": [
          0.6000000000000001,
          0.8
         ]
        },
        "yaxis3": {
         "anchor": "x3",
         "domain": [
          0.4,
          0.6000000000000001
         ]
        },
        "yaxis4": {
         "anchor": "x4",
         "domain": [
          0.2,
          0.4
         ]
        },
        "yaxis5": {
         "anchor": "x5",
         "domain": [
          0,
          0.2
         ],
         "visible": false
        }
       }
      },
      "text/html": [
       "<div>                            <div id=\"5d88395f-0448-437e-9e39-2a5ddec24048\" class=\"plotly-graph-div\" style=\"height:1800px; width:100%;\"></div>            <script type=\"text/javascript\">                require([\"plotly\"], function(Plotly) {                    window.PLOTLYENV=window.PLOTLYENV || {};                                    if (document.getElementById(\"5d88395f-0448-437e-9e39-2a5ddec24048\")) {                    Plotly.newPlot(                        \"5d88395f-0448-437e-9e39-2a5ddec24048\",                        [{\"marker\":{\"color\":[\"#b5da5c\",\"#b941f4\",\"#70b4b5\",\"#786c6f\",\"#51b566\",\"#f0f99b\",\"#d7ba3b\",\"#7736f5\",\"#ecbc52\",\"#d66a15\",\"#bfe066\",\"#998f33\",\"#c91956\",\"#584fa5\",\"#bf509a\",\"#8ece31\",\"#42477a\",\"#8e2825\",\"#7d5a25\",\"#17cc95\"]},\"name\":\"Family\",\"orientation\":\"h\",\"type\":\"bar\",\"x\":[3776.9721000044483,2385.7931512272366,1349.3521232125959,1072.4167436438813,709.1548891528108,463.3362538089327,350.5322916306098,341.8499648552267,270.43251297615905,265.13506717655184,176.19802938330255,171.4205155274039,154.76695390066035,96.77020230648442,85.18782440397642,22.163190406699307,21.58404812175596,20.470341778833465,16.722420163631565,8.370469341075042],\"xaxis\":\"x\",\"y\":[\"GROCERY I\",\"BEVERAGES\",\"PRODUCE\",\"CLEANING\",\"DAIRY\",\"BREAD/BAKERY\",\"POULTRY\",\"MEATS\",\"PERSONAL CARE\",\"DELI\",\"HOME CARE\",\"EGGS\",\"FROZEN FOODS\",\"PREPARED FOODS\",\"LIQUOR,WINE,BEER\",\"SEAFOOD\",\"GROCERY II\",\"HOME AND KITCHEN I\",\"HOME AND KITCHEN II\",\"CELEBRATION\"],\"yaxis\":\"y\"},{\"domain\":{\"x\":[0.51,1.0],\"y\":[0.8,1.0]},\"hole\":0.30000000000000004,\"hoverinfo\":\"label+percent+value\",\"labels\":[\"A\",\"D\",\"B\",\"E\",\"C\"],\"marker\":{\"colors\":[\"#b5da5c\",\"#b941f4\",\"#70b4b5\",\"#786c6f\",\"#51b566\",\"#f0f99b\",\"#d7ba3b\",\"#7736f5\",\"#ecbc52\",\"#d66a15\",\"#bfe066\",\"#998f33\",\"#c91956\",\"#584fa5\",\"#bf509a\",\"#8ece31\",\"#42477a\",\"#8e2825\",\"#7d5a25\",\"#17cc95\"]},\"name\":\"Store Type\",\"textinfo\":\"label\",\"type\":\"pie\",\"values\":[705.8787434972405,350.9794069592691,326.73971409462433,269.12130136803165,197.26330114068872]},{\"marker\":{\"color\":[\"#626a6f\",\"#67250f\",\"#8f6c5d\",\"#f63866\",\"#11cea4\",\"#2dcdc9\",\"#b472e0\",\"#193dc3\",\"#103e70\",\"#dcad4d\",\"#857259\",\"#c54d27\",\"#ce0cb5\",\"#0aa42a\",\"#a1927a\",\"#511a66\",\"#d36549\"]},\"name\":\"Cluster\",\"orientation\":\"h\",\"type\":\"bar\",\"x\":[1117.2452539064425,708.2277184610604,647.3778563309344,603.50701752496,592.2315111495728,342.66173235298555,326.1639672006416,324.4614059267437,324.3641077968915,296.572872258617,274.9683388658836,260.170620992955,255.8975456221041,238.59813736961632,199.0101107407324,194.41626167148695,139.26186288974677],\"xaxis\":\"x3\",\"y\":[5,14,8,11,17,6,1,12,13,4,9,2,10,16,15,3,7],\"yaxis\":\"y3\"},{\"domain\":{\"x\":[0.0,0.49],\"y\":[0.4,0.6000000000000001]},\"hole\":0.5,\"hoverinfo\":\"label+percent+value\",\"labels\":[\"Pichincha\",\"Tungurahua\",\"Loja\",\"El Oro\",\"Esmeraldas\",\"Azuay\",\"Los Rios\",\"Guayas\",\"Bolivar\",\"Santo Domingo de los Tsachilas\",\"Imbabura\",\"Santa Elena\",\"Chimborazo\",\"Cotopaxi\",\"Manabi\",\"Pastaza\"],\"marker\":{\"colors\":[\"#510c4d\",\"#d47712\",\"#a7ae49\",\"#0d0382\",\"#3fa497\",\"#0284be\",\"#2ec4a6\",\"#a75ece\",\"#1bc7a8\",\"#b3b09c\",\"#00a842\",\"#37761f\",\"#a4d9b4\",\"#901696\",\"#354744\",\"#1da307\"]},\"name\":\"State\",\"textinfo\":\"label\",\"type\":\"pie\",\"values\":[554.1103578377106,362.6322725437627,339.3795303485512,300.392252794144,294.96315072175923,294.924278612619,287.24334192539334,270.1726709684353,234.82166984691992,214.9423152985462,206.06186609530045,205.51712863626395,204.92188059126914,190.58396112409076,149.7745875251142,73.60184518822433]},{\"marker\":{\"color\":[\"#960103\",\"#ed6af7\",\"#4a0f9d\",\"#d391dd\",\"#19fbc6\",\"#268460\",\"#89af9d\",\"#4f13e8\",\"#0edf12\",\"#a6422f\",\"#581d33\",\"#044830\",\"#377e99\",\"#5270c2\",\"#242fe7\",\"#c06149\",\"#072aef\",\"#518ea8\",\"#c48343\",\"#e5fa2c\",\"#e2d25e\",\"#f30715\"]},\"name\":\"City\",\"type\":\"bar\",\"x\":[\"Quito\",\"Cayambe\",\"Ambato\",\"Daule\",\"Loja\",\"Babahoyo\",\"Machala\",\"Esmeraldas\",\"Cuenca\",\"Guayaquil\",\"Libertad\",\"Quevedo\",\"Guaranda\",\"Santo Domingo\",\"Ibarra\",\"Salinas\",\"Riobamba\",\"El Carmen\",\"Latacunga\",\"Playas\",\"Manta\",\"Puyo\"],\"xaxis\":\"x5\",\"y\":[556.5770900093582,509.7091787482188,362.6322725437627,345.2821813419388,339.3795303485512,319.34918126946815,300.392252794144,294.96315072175923,294.924278612619,276.59446412279846,275.7221459831931,255.13750258131876,234.82166984691992,214.9423152985462,206.06186609530045,205.51712863626395,204.92188059126914,198.97579928569937,190.58396112409076,138.13934034531036,125.17398164482185,73.60184518822433],\"yaxis\":\"y5\"}],                        {\"annotations\":[{\"font\":{\"size\":16},\"showarrow\":false,\"text\":\"Average Product Sales\",\"x\":0.245,\"xanchor\":\"center\",\"xref\":\"paper\",\"y\":1.0,\"yanchor\":\"bottom\",\"yref\":\"paper\"},{\"font\":{\"size\":16},\"showarrow\":false,\"text\":\"Highest Average Sales in Store Types\",\"x\":0.755,\"xanchor\":\"center\",\"xref\":\"paper\",\"y\":1.0,\"yanchor\":\"bottom\",\"yref\":\"paper\"},{\"font\":{\"size\":16},\"showarrow\":false,\"text\":\"\\n\",\"x\":0.5,\"xanchor\":\"center\",\"xref\":\"paper\",\"y\":0.8,\"yanchor\":\"bottom\",\"yref\":\"paper\"},{\"font\":{\"size\":16},\"showarrow\":false,\"text\":\"\\nAverage Sales per State\",\"x\":0.245,\"xanchor\":\"center\",\"xref\":\"paper\",\"y\":0.6000000000000001,\"yanchor\":\"bottom\",\"yref\":\"paper\"},{\"font\":{\"size\":16},\"showarrow\":false,\"text\":\"Average Sales per Cluster\",\"x\":0.755,\"xanchor\":\"center\",\"xref\":\"paper\",\"y\":0.6000000000000001,\"yanchor\":\"bottom\",\"yref\":\"paper\"},{\"font\":{\"size\":16},\"showarrow\":false,\"text\":\"\\n\",\"x\":0.5,\"xanchor\":\"center\",\"xref\":\"paper\",\"y\":0.4,\"yanchor\":\"bottom\",\"yref\":\"paper\"},{\"font\":{\"size\":16},\"showarrow\":false,\"text\":\"\\nAverage Sales per City\",\"x\":0.5,\"xanchor\":\"center\",\"xref\":\"paper\",\"y\":0.2,\"yanchor\":\"bottom\",\"yref\":\"paper\"}],\"bargap\":0.3,\"font\":{\"color\":\"#90449c\"},\"height\":1800,\"hoverlabel\":{\"bgcolor\":\"#45ffbc\",\"font\":{\"family\":\"Roboto, sans-serif\",\"size\":15}},\"margin\":{\"b\":10,\"l\":20,\"r\":20},\"showlegend\":false,\"template\":{\"data\":{\"bar\":[{\"error_x\":{\"color\":\"#2a3f5f\"},\"error_y\":{\"color\":\"#2a3f5f\"},\"marker\":{\"line\":{\"color\":\"white\",\"width\":0.5},\"pattern\":{\"fillmode\":\"overlay\",\"size\":10,\"solidity\":0.2}},\"type\":\"bar\"}],\"barpolar\":[{\"marker\":{\"line\":{\"color\":\"white\",\"width\":0.5},\"pattern\":{\"fillmode\":\"overlay\",\"size\":10,\"solidity\":0.2}},\"type\":\"barpolar\"}],\"carpet\":[{\"aaxis\":{\"endlinecolor\":\"#2a3f5f\",\"gridcolor\":\"#C8D4E3\",\"linecolor\":\"#C8D4E3\",\"minorgridcolor\":\"#C8D4E3\",\"startlinecolor\":\"#2a3f5f\"},\"baxis\":{\"endlinecolor\":\"#2a3f5f\",\"gridcolor\":\"#C8D4E3\",\"linecolor\":\"#C8D4E3\",\"minorgridcolor\":\"#C8D4E3\",\"startlinecolor\":\"#2a3f5f\"},\"type\":\"carpet\"}],\"choropleth\":[{\"colorbar\":{\"outlinewidth\":0,\"ticks\":\"\"},\"type\":\"choropleth\"}],\"contour\":[{\"colorbar\":{\"outlinewidth\":0,\"ticks\":\"\"},\"colorscale\":[[0.0,\"#0d0887\"],[0.1111111111111111,\"#46039f\"],[0.2222222222222222,\"#7201a8\"],[0.3333333333333333,\"#9c179e\"],[0.4444444444444444,\"#bd3786\"],[0.5555555555555556,\"#d8576b\"],[0.6666666666666666,\"#ed7953\"],[0.7777777777777778,\"#fb9f3a\"],[0.8888888888888888,\"#fdca26\"],[1.0,\"#f0f921\"]],\"type\":\"contour\"}],\"contourcarpet\":[{\"colorbar\":{\"outlinewidth\":0,\"ticks\":\"\"},\"type\":\"contourcarpet\"}],\"heatmap\":[{\"colorbar\":{\"outlinewidth\":0,\"ticks\":\"\"},\"colorscale\":[[0.0,\"#0d0887\"],[0.1111111111111111,\"#46039f\"],[0.2222222222222222,\"#7201a8\"],[0.3333333333333333,\"#9c179e\"],[0.4444444444444444,\"#bd3786\"],[0.5555555555555556,\"#d8576b\"],[0.6666666666666666,\"#ed7953\"],[0.7777777777777778,\"#fb9f3a\"],[0.8888888888888888,\"#fdca26\"],[1.0,\"#f0f921\"]],\"type\":\"heatmap\"}],\"heatmapgl\":[{\"colorbar\":{\"outlinewidth\":0,\"ticks\":\"\"},\"colorscale\":[[0.0,\"#0d0887\"],[0.1111111111111111,\"#46039f\"],[0.2222222222222222,\"#7201a8\"],[0.3333333333333333,\"#9c179e\"],[0.4444444444444444,\"#bd3786\"],[0.5555555555555556,\"#d8576b\"],[0.6666666666666666,\"#ed7953\"],[0.7777777777777778,\"#fb9f3a\"],[0.8888888888888888,\"#fdca26\"],[1.0,\"#f0f921\"]],\"type\":\"heatmapgl\"}],\"histogram\":[{\"marker\":{\"pattern\":{\"fillmode\":\"overlay\",\"size\":10,\"solidity\":0.2}},\"type\":\"histogram\"}],\"histogram2d\":[{\"colorbar\":{\"outlinewidth\":0,\"ticks\":\"\"},\"colorscale\":[[0.0,\"#0d0887\"],[0.1111111111111111,\"#46039f\"],[0.2222222222222222,\"#7201a8\"],[0.3333333333333333,\"#9c179e\"],[0.4444444444444444,\"#bd3786\"],[0.5555555555555556,\"#d8576b\"],[0.6666666666666666,\"#ed7953\"],[0.7777777777777778,\"#fb9f3a\"],[0.8888888888888888,\"#fdca26\"],[1.0,\"#f0f921\"]],\"type\":\"histogram2d\"}],\"histogram2dcontour\":[{\"colorbar\":{\"outlinewidth\":0,\"ticks\":\"\"},\"colorscale\":[[0.0,\"#0d0887\"],[0.1111111111111111,\"#46039f\"],[0.2222222222222222,\"#7201a8\"],[0.3333333333333333,\"#9c179e\"],[0.4444444444444444,\"#bd3786\"],[0.5555555555555556,\"#d8576b\"],[0.6666666666666666,\"#ed7953\"],[0.7777777777777778,\"#fb9f3a\"],[0.8888888888888888,\"#fdca26\"],[1.0,\"#f0f921\"]],\"type\":\"histogram2dcontour\"}],\"mesh3d\":[{\"colorbar\":{\"outlinewidth\":0,\"ticks\":\"\"},\"type\":\"mesh3d\"}],\"parcoords\":[{\"line\":{\"colorbar\":{\"outlinewidth\":0,\"ticks\":\"\"}},\"type\":\"parcoords\"}],\"pie\":[{\"automargin\":true,\"type\":\"pie\"}],\"scatter\":[{\"marker\":{\"colorbar\":{\"outlinewidth\":0,\"ticks\":\"\"}},\"type\":\"scatter\"}],\"scatter3d\":[{\"line\":{\"colorbar\":{\"outlinewidth\":0,\"ticks\":\"\"}},\"marker\":{\"colorbar\":{\"outlinewidth\":0,\"ticks\":\"\"}},\"type\":\"scatter3d\"}],\"scattercarpet\":[{\"marker\":{\"colorbar\":{\"outlinewidth\":0,\"ticks\":\"\"}},\"type\":\"scattercarpet\"}],\"scattergeo\":[{\"marker\":{\"colorbar\":{\"outlinewidth\":0,\"ticks\":\"\"}},\"type\":\"scattergeo\"}],\"scattergl\":[{\"marker\":{\"colorbar\":{\"outlinewidth\":0,\"ticks\":\"\"}},\"type\":\"scattergl\"}],\"scattermapbox\":[{\"marker\":{\"colorbar\":{\"outlinewidth\":0,\"ticks\":\"\"}},\"type\":\"scattermapbox\"}],\"scatterpolar\":[{\"marker\":{\"colorbar\":{\"outlinewidth\":0,\"ticks\":\"\"}},\"type\":\"scatterpolar\"}],\"scatterpolargl\":[{\"marker\":{\"colorbar\":{\"outlinewidth\":0,\"ticks\":\"\"}},\"type\":\"scatterpolargl\"}],\"scatterternary\":[{\"marker\":{\"colorbar\":{\"outlinewidth\":0,\"ticks\":\"\"}},\"type\":\"scatterternary\"}],\"surface\":[{\"colorbar\":{\"outlinewidth\":0,\"ticks\":\"\"},\"colorscale\":[[0.0,\"#0d0887\"],[0.1111111111111111,\"#46039f\"],[0.2222222222222222,\"#7201a8\"],[0.3333333333333333,\"#9c179e\"],[0.4444444444444444,\"#bd3786\"],[0.5555555555555556,\"#d8576b\"],[0.6666666666666666,\"#ed7953\"],[0.7777777777777778,\"#fb9f3a\"],[0.8888888888888888,\"#fdca26\"],[1.0,\"#f0f921\"]],\"type\":\"surface\"}],\"table\":[{\"cells\":{\"fill\":{\"color\":\"#EBF0F8\"},\"line\":{\"color\":\"white\"}},\"header\":{\"fill\":{\"color\":\"#C8D4E3\"},\"line\":{\"color\":\"white\"}},\"type\":\"table\"}]},\"layout\":{\"annotationdefaults\":{\"arrowcolor\":\"#2a3f5f\",\"arrowhead\":0,\"arrowwidth\":1},\"autotypenumbers\":\"strict\",\"coloraxis\":{\"colorbar\":{\"outlinewidth\":0,\"ticks\":\"\"}},\"colorscale\":{\"diverging\":[[0,\"#8e0152\"],[0.1,\"#c51b7d\"],[0.2,\"#de77ae\"],[0.3,\"#f1b6da\"],[0.4,\"#fde0ef\"],[0.5,\"#f7f7f7\"],[0.6,\"#e6f5d0\"],[0.7,\"#b8e186\"],[0.8,\"#7fbc41\"],[0.9,\"#4d9221\"],[1,\"#276419\"]],\"sequential\":[[0.0,\"#0d0887\"],[0.1111111111111111,\"#46039f\"],[0.2222222222222222,\"#7201a8\"],[0.3333333333333333,\"#9c179e\"],[0.4444444444444444,\"#bd3786\"],[0.5555555555555556,\"#d8576b\"],[0.6666666666666666,\"#ed7953\"],[0.7777777777777778,\"#fb9f3a\"],[0.8888888888888888,\"#fdca26\"],[1.0,\"#f0f921\"]],\"sequentialminus\":[[0.0,\"#0d0887\"],[0.1111111111111111,\"#46039f\"],[0.2222222222222222,\"#7201a8\"],[0.3333333333333333,\"#9c179e\"],[0.4444444444444444,\"#bd3786\"],[0.5555555555555556,\"#d8576b\"],[0.6666666666666666,\"#ed7953\"],[0.7777777777777778,\"#fb9f3a\"],[0.8888888888888888,\"#fdca26\"],[1.0,\"#f0f921\"]]},\"colorway\":[\"#636efa\",\"#EF553B\",\"#00cc96\",\"#ab63fa\",\"#FFA15A\",\"#19d3f3\",\"#FF6692\",\"#B6E880\",\"#FF97FF\",\"#FECB52\"],\"font\":{\"color\":\"#2a3f5f\"},\"geo\":{\"bgcolor\":\"white\",\"lakecolor\":\"white\",\"landcolor\":\"white\",\"showlakes\":true,\"showland\":true,\"subunitcolor\":\"#C8D4E3\"},\"hoverlabel\":{\"align\":\"left\"},\"hovermode\":\"closest\",\"mapbox\":{\"style\":\"light\"},\"paper_bgcolor\":\"white\",\"plot_bgcolor\":\"white\",\"polar\":{\"angularaxis\":{\"gridcolor\":\"#EBF0F8\",\"linecolor\":\"#EBF0F8\",\"ticks\":\"\"},\"bgcolor\":\"white\",\"radialaxis\":{\"gridcolor\":\"#EBF0F8\",\"linecolor\":\"#EBF0F8\",\"ticks\":\"\"}},\"scene\":{\"xaxis\":{\"backgroundcolor\":\"white\",\"gridcolor\":\"#DFE8F3\",\"gridwidth\":2,\"linecolor\":\"#EBF0F8\",\"showbackground\":true,\"ticks\":\"\",\"zerolinecolor\":\"#EBF0F8\"},\"yaxis\":{\"backgroundcolor\":\"white\",\"gridcolor\":\"#DFE8F3\",\"gridwidth\":2,\"linecolor\":\"#EBF0F8\",\"showbackground\":true,\"ticks\":\"\",\"zerolinecolor\":\"#EBF0F8\"},\"zaxis\":{\"backgroundcolor\":\"white\",\"gridcolor\":\"#DFE8F3\",\"gridwidth\":2,\"linecolor\":\"#EBF0F8\",\"showbackground\":true,\"ticks\":\"\",\"zerolinecolor\":\"#EBF0F8\"}},\"shapedefaults\":{\"line\":{\"color\":\"#2a3f5f\"}},\"ternary\":{\"aaxis\":{\"gridcolor\":\"#DFE8F3\",\"linecolor\":\"#A2B1C6\",\"ticks\":\"\"},\"baxis\":{\"gridcolor\":\"#DFE8F3\",\"linecolor\":\"#A2B1C6\",\"ticks\":\"\"},\"bgcolor\":\"white\",\"caxis\":{\"gridcolor\":\"#DFE8F3\",\"linecolor\":\"#A2B1C6\",\"ticks\":\"\"}},\"title\":{\"x\":0.05},\"xaxis\":{\"automargin\":true,\"gridcolor\":\"#EBF0F8\",\"linecolor\":\"#EBF0F8\",\"ticks\":\"\",\"title\":{\"standoff\":15},\"zerolinecolor\":\"#EBF0F8\",\"zerolinewidth\":2},\"yaxis\":{\"automargin\":true,\"gridcolor\":\"#EBF0F8\",\"linecolor\":\"#EBF0F8\",\"ticks\":\"\",\"title\":{\"standoff\":15},\"zerolinecolor\":\"#EBF0F8\",\"zerolinewidth\":2}}},\"title\":{\"font\":{\"color\":\"#65bdc2\",\"family\":\"Roboto, sans-serif\",\"size\":25},\"text\":\"Average Sales Analysis\",\"x\":0.5},\"xaxis\":{\"anchor\":\"y\",\"domain\":[0.0,0.49],\"tickmode\":\"linear\",\"visible\":false},\"xaxis2\":{\"anchor\":\"y2\",\"domain\":[0.0,1.0]},\"xaxis3\":{\"anchor\":\"y3\",\"domain\":[0.51,1.0],\"tickmode\":\"array\",\"ticktext\":[1,2,3,4,5,6,7,8,9,10,11,12,13,14,15,16],\"tickvals\":[5,14,8,11,17,6,1,12,13,4,9,2,10,16,15,3,7],\"visible\":false},\"xaxis4\":{\"anchor\":\"y4\",\"domain\":[0.0,1.0]},\"xaxis5\":{\"anchor\":\"y5\",\"domain\":[0.0,1.0]},\"yaxis\":{\"anchor\":\"x\",\"categoryorder\":\"total ascending\",\"domain\":[0.8,1.0],\"showgrid\":false,\"ticksuffix\":\" \"},\"yaxis2\":{\"anchor\":\"x2\",\"domain\":[0.6000000000000001,0.8]},\"yaxis3\":{\"anchor\":\"x3\",\"domain\":[0.4,0.6000000000000001]},\"yaxis4\":{\"anchor\":\"x4\",\"domain\":[0.2,0.4]},\"yaxis5\":{\"anchor\":\"x5\",\"domain\":[0.0,0.2],\"visible\":false}},                        {\"responsive\": true}                    ).then(function(){\n",
       "                            \n",
       "var gd = document.getElementById('5d88395f-0448-437e-9e39-2a5ddec24048');\n",
       "var x = new MutationObserver(function (mutations, observer) {{\n",
       "        var display = window.getComputedStyle(gd).display;\n",
       "        if (!display || display === 'none') {{\n",
       "            console.log([gd, 'removed!']);\n",
       "            Plotly.purge(gd);\n",
       "            observer.disconnect();\n",
       "        }}\n",
       "}});\n",
       "\n",
       "// Listen for the removal of the full notebook cells\n",
       "var notebookContainer = gd.closest('#notebook-container');\n",
       "if (notebookContainer) {{\n",
       "    x.observe(notebookContainer, {childList: true});\n",
       "}}\n",
       "\n",
       "// Listen for the clearing of the current output cell\n",
       "var outputEl = gd.closest('.output');\n",
       "if (outputEl) {{\n",
       "    x.observe(outputEl, {childList: true});\n",
       "}}\n",
       "\n",
       "                        })                };                });            </script>        </div>"
      ]
     },
     "metadata": {},
     "output_type": "display_data"
    }
   ],
   "source": [
    "import matplotlib.pyplot as plt\n",
    "\n",
    "fig = make_subplots(rows=5, cols=2, \n",
    "                    specs=[[{\"type\": \"bar\"}, {\"type\": \"pie\"}],\n",
    "                           [{\"colspan\": 2}, None],\n",
    "                           [{\"type\": \"pie\"},{\"type\": \"bar\"} ],\n",
    "                           [{\"colspan\": 2}, None],\n",
    "                           [{\"colspan\": 2}, None]],\n",
    "                    column_widths=[0.5, 0.5], vertical_spacing=0, horizontal_spacing=0.02,\n",
    "                    subplot_titles=(\"Average Product Sales\", \n",
    "                                    \"Highest Average Sales in Store Types\",\n",
    "                                    \"\\n\",\n",
    "                                    \"\\n\"\n",
    "                                    \"Average Sales per State\",\n",
    "                                    \"Average Sales per Cluster\",\n",
    "                                    \"\\n\",\n",
    "                                    \"\\n\"\n",
    "                                    \"Average Sales per City\",\n",
    "                                   ))\n",
    "fig.add_trace(go.Bar(x=ts_sales_family['sales'], \n",
    "                     y=ts_sales_family['family'],\n",
    "                     marker=dict(color= ts_sales_family['color']),\n",
    "                     name='Family', orientation='h'), \n",
    "                     row=1, col=1)\n",
    "fig.add_trace(go.Pie(values=ts_sales_type['sales'], labels=ts_sales_type['type'], name='Store Type',\n",
    "                     marker=dict(colors= ts_sales_family['color']), hole=0.4+(0.1 * random.randrange(-2, 2)),\n",
    "                     hoverinfo='label+percent+value', textinfo='label'),row=1, col=2)\n",
    "fig.add_trace(go.Bar(x=ts_sales_cluster['sales'], \n",
    "                     y=ts_sales_cluster['cluster'],\n",
    "                     marker=dict(color= ts_sales_cluster['color']),\n",
    "                     name='Cluster', orientation='h'), \n",
    "                     row=3, col=2)\n",
    "fig.add_trace(go.Pie(values=ts_sales_state['sales'], labels=ts_sales_state['state'], name='State',\n",
    "                     marker=dict(colors= ts_sales_state['color']), hole=0.4+(0.1 * random.randrange(-2, 2)),\n",
    "                     hoverinfo='label+percent+value', textinfo='label'),row=3, col=1)\n",
    "fig.add_trace(go.Bar(x=ts_sales_city['city'], y=ts_sales_city['sales'], \n",
    "                     marker=dict(color= ts_sales_city['color']), name='City'), \n",
    "                     row=5, col=1)\n",
    "fig.update_yaxes(showgrid=False, ticksuffix=' ', categoryorder='total ascending', row=1, col=1)\n",
    "fig.update_xaxes(visible=False, row=1, col=1)\n",
    "fig.update_xaxes(visible=False, row=3, col=2)\n",
    "fig.update_xaxes(tickmode = 'array', tickvals=ts_sales_cluster.cluster, ticktext=[i for i in range(1,17)], row=3, col=2)\n",
    "fig.update_yaxes(visible=False, row=5, col=1)\n",
    "plt_themes = [\"plotly\", \"plotly_white\", \"plotly_dark\", \"ggplot2\", \"seaborn\", \"simple_white\", \"none\"]\n",
    "fig.update_layout(height=1800, bargap=0.3,\n",
    "                  margin=dict(b=10,r=20,l=20), \n",
    "                  xaxis=dict(tickmode='linear'),\n",
    "                  title_text=\"Average Sales Analysis\",\n",
    "                  title_x=0.5,\n",
    "                  template=plt_themes[random.randrange(0, 6)],\n",
    "                  title_font=dict(size=25, color=random_color(), family=\"Roboto, sans-serif\"),\n",
    "                  font=dict(color=random_color()),\n",
    "                  hoverlabel=dict(bgcolor=random_color(), font_size=15, font_family=\"Roboto, sans-serif\"),\n",
    "                  showlegend=False)\n",
    "fig.show()"
   ]
  },
  {
   "cell_type": "code",
   "execution_count": 19,
   "id": "7ee2cbce",
   "metadata": {},
   "outputs": [
    {
     "data": {
      "text/plain": [
       "Text(0.5, 0, 'Promotions')"
      ]
     },
     "execution_count": 19,
     "metadata": {},
     "output_type": "execute_result"
    },
    {
     "data": {
      "image/png": "[encoded data removed]",
      "text/plain": [
       "<Figure size 864x576 with 2 Axes>"
      ]
     },
     "metadata": {},
     "output_type": "display_data"
    }
   ],
   "source": [
    "sns.set(style = \"ticks\")# to format into seaborn \n",
    "c = '#386B7F' # basic color for plots\n",
    "plt.figure(figsize = (12, 8))\n",
    "\n",
    "plt.subplot(211)\n",
    "cdf = ECDF(train['sales'])\n",
    "plt.plot(cdf.x, cdf.y, label = \"statmodels\", color = c)\n",
    "plt.xlabel('Sales')\n",
    "plt.ylabel('ECDF')\n",
    "\n",
    "# plot second ECDF  \n",
    "plt.subplot(212)\n",
    "cdf = ECDF(train['onpromotion'])\n",
    "plt.plot(cdf.x, cdf.y, label = \"statmodels\", color = c)\n",
    "plt.xlabel('Promotions')"
   ]
  },
  {
   "cell_type": "code",
   "execution_count": 20,
   "id": "d0bff405",
   "metadata": {},
   "outputs": [
    {
     "data": {
      "text/html": [
       "<div>\n",
       "<style scoped>\n",
       "    .dataframe tbody tr th:only-of-type {\n",
       "        vertical-align: middle;\n",
       "    }\n",
       "\n",
       "    .dataframe tbody tr th {\n",
       "        vertical-align: top;\n",
       "    }\n",
       "\n",
       "    .dataframe thead th {\n",
       "        text-align: right;\n",
       "    }\n",
       "</style>\n",
       "<table border=\"1\" class=\"dataframe\">\n",
       "  <thead>\n",
       "    <tr style=\"text-align: right;\">\n",
       "      <th></th>\n",
       "      <th>store_nbr</th>\n",
       "      <th>city</th>\n",
       "      <th>state</th>\n",
       "      <th>type</th>\n",
       "      <th>cluster</th>\n",
       "    </tr>\n",
       "  </thead>\n",
       "  <tbody>\n",
       "    <tr>\n",
       "      <th>0</th>\n",
       "      <td>1</td>\n",
       "      <td>Quito</td>\n",
       "      <td>Pichincha</td>\n",
       "      <td>D</td>\n",
       "      <td>13</td>\n",
       "    </tr>\n",
       "    <tr>\n",
       "      <th>1</th>\n",
       "      <td>2</td>\n",
       "      <td>Quito</td>\n",
       "      <td>Pichincha</td>\n",
       "      <td>D</td>\n",
       "      <td>13</td>\n",
       "    </tr>\n",
       "    <tr>\n",
       "      <th>2</th>\n",
       "      <td>3</td>\n",
       "      <td>Quito</td>\n",
       "      <td>Pichincha</td>\n",
       "      <td>D</td>\n",
       "      <td>8</td>\n",
       "    </tr>\n",
       "    <tr>\n",
       "      <th>3</th>\n",
       "      <td>4</td>\n",
       "      <td>Quito</td>\n",
       "      <td>Pichincha</td>\n",
       "      <td>D</td>\n",
       "      <td>9</td>\n",
       "    </tr>\n",
       "    <tr>\n",
       "      <th>4</th>\n",
       "      <td>5</td>\n",
       "      <td>Santo Domingo</td>\n",
       "      <td>Santo Domingo de los Tsachilas</td>\n",
       "      <td>D</td>\n",
       "      <td>4</td>\n",
       "    </tr>\n",
       "  </tbody>\n",
       "</table>\n",
       "</div>"
      ],
      "text/plain": [
       "   store_nbr           city                           state type  cluster\n",
       "0          1          Quito                       Pichincha    D       13\n",
       "1          2          Quito                       Pichincha    D       13\n",
       "2          3          Quito                       Pichincha    D        8\n",
       "3          4          Quito                       Pichincha    D        9\n",
       "4          5  Santo Domingo  Santo Domingo de los Tsachilas    D        4"
      ]
     },
     "execution_count": 20,
     "metadata": {},
     "output_type": "execute_result"
    }
   ],
   "source": [
    "store_data.head()"
   ]
  },
  {
   "cell_type": "code",
   "execution_count": 21,
   "id": "c91d984b",
   "metadata": {},
   "outputs": [
    {
     "data": {
      "text/plain": [
       "store_nbr    0\n",
       "city         0\n",
       "state        0\n",
       "type         0\n",
       "cluster      0\n",
       "dtype: int64"
      ]
     },
     "execution_count": 21,
     "metadata": {},
     "output_type": "execute_result"
    }
   ],
   "source": [
    "store_data.isnull().sum()"
   ]
  },
  {
   "cell_type": "code",
   "execution_count": 22,
   "id": "59776137",
   "metadata": {},
   "outputs": [
    {
     "name": "stdout",
     "output_type": "stream",
     "text": [
      "Joining train set with an additional store information.\n",
      "In total:  (3000888, 13)\n"
     ]
    },
    {
     "data": {
      "text/html": [
       "<div>\n",
       "<style scoped>\n",
       "    .dataframe tbody tr th:only-of-type {\n",
       "        vertical-align: middle;\n",
       "    }\n",
       "\n",
       "    .dataframe tbody tr th {\n",
       "        vertical-align: top;\n",
       "    }\n",
       "\n",
       "    .dataframe thead th {\n",
       "        text-align: right;\n",
       "    }\n",
       "</style>\n",
       "<table border=\"1\" class=\"dataframe\">\n",
       "  <thead>\n",
       "    <tr style=\"text-align: right;\">\n",
       "      <th></th>\n",
       "      <th>id</th>\n",
       "      <th>store_nbr</th>\n",
       "      <th>family</th>\n",
       "      <th>sales</th>\n",
       "      <th>onpromotion</th>\n",
       "      <th>Year</th>\n",
       "      <th>Month</th>\n",
       "      <th>Day</th>\n",
       "      <th>WeekOfYear</th>\n",
       "      <th>city</th>\n",
       "      <th>state</th>\n",
       "      <th>type</th>\n",
       "      <th>cluster</th>\n",
       "    </tr>\n",
       "  </thead>\n",
       "  <tbody>\n",
       "    <tr>\n",
       "      <th>0</th>\n",
       "      <td>0</td>\n",
       "      <td>1</td>\n",
       "      <td>AUTOMOTIVE</td>\n",
       "      <td>0.0</td>\n",
       "      <td>0.0</td>\n",
       "      <td>2013</td>\n",
       "      <td>1</td>\n",
       "      <td>1</td>\n",
       "      <td>1</td>\n",
       "      <td>Quito</td>\n",
       "      <td>Pichincha</td>\n",
       "      <td>D</td>\n",
       "      <td>13</td>\n",
       "    </tr>\n",
       "    <tr>\n",
       "      <th>1</th>\n",
       "      <td>1</td>\n",
       "      <td>1</td>\n",
       "      <td>BABY CARE</td>\n",
       "      <td>0.0</td>\n",
       "      <td>0.0</td>\n",
       "      <td>2013</td>\n",
       "      <td>1</td>\n",
       "      <td>1</td>\n",
       "      <td>1</td>\n",
       "      <td>Quito</td>\n",
       "      <td>Pichincha</td>\n",
       "      <td>D</td>\n",
       "      <td>13</td>\n",
       "    </tr>\n",
       "    <tr>\n",
       "      <th>2</th>\n",
       "      <td>2</td>\n",
       "      <td>1</td>\n",
       "      <td>BEAUTY</td>\n",
       "      <td>0.0</td>\n",
       "      <td>0.0</td>\n",
       "      <td>2013</td>\n",
       "      <td>1</td>\n",
       "      <td>1</td>\n",
       "      <td>1</td>\n",
       "      <td>Quito</td>\n",
       "      <td>Pichincha</td>\n",
       "      <td>D</td>\n",
       "      <td>13</td>\n",
       "    </tr>\n",
       "    <tr>\n",
       "      <th>3</th>\n",
       "      <td>3</td>\n",
       "      <td>1</td>\n",
       "      <td>BEVERAGES</td>\n",
       "      <td>0.0</td>\n",
       "      <td>0.0</td>\n",
       "      <td>2013</td>\n",
       "      <td>1</td>\n",
       "      <td>1</td>\n",
       "      <td>1</td>\n",
       "      <td>Quito</td>\n",
       "      <td>Pichincha</td>\n",
       "      <td>D</td>\n",
       "      <td>13</td>\n",
       "    </tr>\n",
       "    <tr>\n",
       "      <th>4</th>\n",
       "      <td>4</td>\n",
       "      <td>1</td>\n",
       "      <td>BOOKS</td>\n",
       "      <td>0.0</td>\n",
       "      <td>0.0</td>\n",
       "      <td>2013</td>\n",
       "      <td>1</td>\n",
       "      <td>1</td>\n",
       "      <td>1</td>\n",
       "      <td>Quito</td>\n",
       "      <td>Pichincha</td>\n",
       "      <td>D</td>\n",
       "      <td>13</td>\n",
       "    </tr>\n",
       "  </tbody>\n",
       "</table>\n",
       "</div>"
      ],
      "text/plain": [
       "   id  store_nbr      family  sales  onpromotion  Year  Month  Day  \\\n",
       "0   0          1  AUTOMOTIVE    0.0          0.0  2013      1    1   \n",
       "1   1          1   BABY CARE    0.0          0.0  2013      1    1   \n",
       "2   2          1      BEAUTY    0.0          0.0  2013      1    1   \n",
       "3   3          1   BEVERAGES    0.0          0.0  2013      1    1   \n",
       "4   4          1       BOOKS    0.0          0.0  2013      1    1   \n",
       "\n",
       "   WeekOfYear   city      state type  cluster  \n",
       "0           1  Quito  Pichincha    D       13  \n",
       "1           1  Quito  Pichincha    D       13  \n",
       "2           1  Quito  Pichincha    D       13  \n",
       "3           1  Quito  Pichincha    D       13  \n",
       "4           1  Quito  Pichincha    D       13  "
      ]
     },
     "execution_count": 22,
     "metadata": {},
     "output_type": "execute_result"
    }
   ],
   "source": [
    "print(\"Joining train set with an additional store information.\")\n",
    "\n",
    "# by specifying inner join we make sure that only those observations \n",
    "# that are present in both train and store sets are merged together\n",
    "train_store = pd.merge(train, store_data, how = 'inner', on = 'store_nbr')\n",
    "\n",
    "print(\"In total: \", train_store.shape)\n",
    "train_store.head()"
   ]
  },
  {
   "cell_type": "code",
   "execution_count": 23,
   "id": "78e02d01",
   "metadata": {},
   "outputs": [
    {
     "data": {
      "text/plain": [
       "<AxesSubplot:xlabel='sales', ylabel='family'>"
      ]
     },
     "execution_count": 23,
     "metadata": {},
     "output_type": "execute_result"
    },
    {
     "data": {
      "image/png": "[encoded data removed]",
      "text/plain": [
       "<Figure size 1152x864 with 1 Axes>"
      ]
     },
     "metadata": {},
     "output_type": "display_data"
    }
   ],
   "source": [
    "plt.figure(figsize=(16,12))\n",
    "sns.barplot(x=\"sales\", y=\"family\", data=train_store.sort_values(by=['sales','family'], ascending=False),\n",
    "            label=\"Sales\", color=\"b\")"
   ]
  },
  {
   "cell_type": "code",
   "execution_count": 25,
   "id": "f48740f8",
   "metadata": {},
   "outputs": [
    {
     "data": {
      "text/plain": [
       "<AxesSubplot:title={'center':'Counts of type of holiday'}, xlabel='locale', ylabel='count'>"
      ]
     },
     "execution_count": 25,
     "metadata": {},
     "output_type": "execute_result"
    },
    {
     "data": {
      "image/png": "[encoded data removed]",
      "text/plain": [
       "<Figure size 1440x1440 with 2 Axes>"
      ]
     },
     "metadata": {},
     "output_type": "display_data"
    }
   ],
   "source": [
    "plt.subplots(1,2,figsize=(20,20))\n",
    "plt.subplot(211)\n",
    "plt.title('Counts of Type Of Holidays')\n",
    "sns.countplot(x=holidays_data.type, hue=holidays_data.locale)\n",
    "plt.legend(loc='upper right')\n",
    "plt.subplot(212)\n",
    "plt.title('Counts of type of holiday')\n",
    "sns.countplot(x=holidays_data.locale)"
   ]
  },
  {
   "cell_type": "code",
   "execution_count": 27,
   "id": "1d6c6125",
   "metadata": {},
   "outputs": [
    {
     "data": {
      "text/plain": [
       "<AxesSubplot:xlabel='count', ylabel='city'>"
      ]
     },
     "execution_count": 27,
     "metadata": {},
     "output_type": "execute_result"
    },
    {
     "data": {
      "image/png": "[encoded data removed]",
      "text/plain": [
       "<Figure size 1512x1440 with 3 Axes>"
      ]
     },
     "metadata": {},
     "output_type": "display_data"
    }
   ],
   "source": [
    "plt.subplots(1,3,figsize=(21,20))\n",
    "plt.subplot(311)\n",
    "sns.countplot(x=store_data.type, order = store_data.type.value_counts().index)\n",
    "plt.subplot(312)\n",
    "sns.countplot(y=store_data.cluster, order = store_data.cluster.value_counts().index)\n",
    "plt.subplot(313)\n",
    "sns.countplot(y=store_data.city, order = store_data.city.value_counts().index)"
   ]
  },
  {
   "cell_type": "code",
   "execution_count": 29,
   "id": "92c404a0",
   "metadata": {},
   "outputs": [
    {
     "data": {
      "text/plain": [
       "<seaborn.axisgrid.FacetGrid at 0x1f57eb96370>"
      ]
     },
     "execution_count": 29,
     "metadata": {},
     "output_type": "execute_result"
    },
    {
     "data": {
      "image/png": "[encoded data removed]",
      "text/plain": [
       "<Figure size 360x360 with 1 Axes>"
      ]
     },
     "metadata": {},
     "output_type": "display_data"
    }
   ],
   "source": [
    "sns.catplot(x = 'type', y='cluster',data=store_data, kind='strip')"
   ]
  },
  {
   "cell_type": "code",
   "execution_count": 30,
   "id": "36e270fb",
   "metadata": {},
   "outputs": [
    {
     "data": {
      "text/plain": [
       "<seaborn.axisgrid.FacetGrid at 0x1f579f83fd0>"
      ]
     },
     "execution_count": 30,
     "metadata": {},
     "output_type": "execute_result"
    },
    {
     "data": {
      "image/png": "[encoded data removed]",
      "text/plain": [
       "<Figure size 360x360 with 1 Axes>"
      ]
     },
     "metadata": {},
     "output_type": "display_data"
    }
   ],
   "source": [
    "sns.catplot(x = 'type', y='cluster',data=store_data, kind='swarm')"
   ]
  },
  {
   "cell_type": "code",
   "execution_count": 31,
   "id": "ac57cc50",
   "metadata": {},
   "outputs": [
    {
     "data": {
      "text/html": [
       "<div>\n",
       "<style scoped>\n",
       "    .dataframe tbody tr th:only-of-type {\n",
       "        vertical-align: middle;\n",
       "    }\n",
       "\n",
       "    .dataframe tbody tr th {\n",
       "        vertical-align: top;\n",
       "    }\n",
       "\n",
       "    .dataframe thead th {\n",
       "        text-align: right;\n",
       "    }\n",
       "</style>\n",
       "<table border=\"1\" class=\"dataframe\">\n",
       "  <thead>\n",
       "    <tr style=\"text-align: right;\">\n",
       "      <th></th>\n",
       "      <th>sales</th>\n",
       "    </tr>\n",
       "    <tr>\n",
       "      <th>state</th>\n",
       "      <th></th>\n",
       "    </tr>\n",
       "  </thead>\n",
       "  <tbody>\n",
       "    <tr>\n",
       "      <th>Azuay</th>\n",
       "      <td>4.916860e+07</td>\n",
       "    </tr>\n",
       "    <tr>\n",
       "      <th>Bolivar</th>\n",
       "      <td>1.304951e+07</td>\n",
       "    </tr>\n",
       "    <tr>\n",
       "      <th>Chimborazo</th>\n",
       "      <td>1.138792e+07</td>\n",
       "    </tr>\n",
       "    <tr>\n",
       "      <th>Cotopaxi</th>\n",
       "      <td>2.118226e+07</td>\n",
       "    </tr>\n",
       "    <tr>\n",
       "      <th>El Oro</th>\n",
       "      <td>3.338680e+07</td>\n",
       "    </tr>\n",
       "    <tr>\n",
       "      <th>Esmeraldas</th>\n",
       "      <td>1.639169e+07</td>\n",
       "    </tr>\n",
       "    <tr>\n",
       "      <th>Guayas</th>\n",
       "      <td>1.651544e+08</td>\n",
       "    </tr>\n",
       "    <tr>\n",
       "      <th>Imbabura</th>\n",
       "      <td>1.145127e+07</td>\n",
       "    </tr>\n",
       "    <tr>\n",
       "      <th>Loja</th>\n",
       "      <td>1.886000e+07</td>\n",
       "    </tr>\n",
       "    <tr>\n",
       "      <th>Los Rios</th>\n",
       "      <td>3.192537e+07</td>\n",
       "    </tr>\n",
       "    <tr>\n",
       "      <th>Manabi</th>\n",
       "      <td>2.496982e+07</td>\n",
       "    </tr>\n",
       "    <tr>\n",
       "      <th>Pastaza</th>\n",
       "      <td>4.090202e+06</td>\n",
       "    </tr>\n",
       "    <tr>\n",
       "      <th>Pichincha</th>\n",
       "      <td>5.850674e+08</td>\n",
       "    </tr>\n",
       "    <tr>\n",
       "      <th>Santa Elena</th>\n",
       "      <td>1.142100e+07</td>\n",
       "    </tr>\n",
       "    <tr>\n",
       "      <th>Santo Domingo de los Tsachilas</th>\n",
       "      <td>3.583432e+07</td>\n",
       "    </tr>\n",
       "    <tr>\n",
       "      <th>Tungurahua</th>\n",
       "      <td>4.030440e+07</td>\n",
       "    </tr>\n",
       "  </tbody>\n",
       "</table>\n",
       "</div>"
      ],
      "text/plain": [
       "                                       sales\n",
       "state                                       \n",
       "Azuay                           4.916860e+07\n",
       "Bolivar                         1.304951e+07\n",
       "Chimborazo                      1.138792e+07\n",
       "Cotopaxi                        2.118226e+07\n",
       "El Oro                          3.338680e+07\n",
       "Esmeraldas                      1.639169e+07\n",
       "Guayas                          1.651544e+08\n",
       "Imbabura                        1.145127e+07\n",
       "Loja                            1.886000e+07\n",
       "Los Rios                        3.192537e+07\n",
       "Manabi                          2.496982e+07\n",
       "Pastaza                         4.090202e+06\n",
       "Pichincha                       5.850674e+08\n",
       "Santa Elena                     1.142100e+07\n",
       "Santo Domingo de los Tsachilas  3.583432e+07\n",
       "Tungurahua                      4.030440e+07"
      ]
     },
     "execution_count": 31,
     "metadata": {},
     "output_type": "execute_result"
    }
   ],
   "source": [
    "train_store.groupby('state')['city','type','sales'].sum()"
   ]
  },
  {
   "cell_type": "code",
   "execution_count": 32,
   "id": "e7fab360",
   "metadata": {},
   "outputs": [
    {
     "data": {
      "text/html": [
       "<div>\n",
       "<style scoped>\n",
       "    .dataframe tbody tr th:only-of-type {\n",
       "        vertical-align: middle;\n",
       "    }\n",
       "\n",
       "    .dataframe tbody tr th {\n",
       "        vertical-align: top;\n",
       "    }\n",
       "\n",
       "    .dataframe thead th {\n",
       "        text-align: right;\n",
       "    }\n",
       "</style>\n",
       "<table border=\"1\" class=\"dataframe\">\n",
       "  <thead>\n",
       "    <tr style=\"text-align: right;\">\n",
       "      <th></th>\n",
       "      <th>sales</th>\n",
       "    </tr>\n",
       "    <tr>\n",
       "      <th>city</th>\n",
       "      <th></th>\n",
       "    </tr>\n",
       "  </thead>\n",
       "  <tbody>\n",
       "    <tr>\n",
       "      <th>Ambato</th>\n",
       "      <td>4.030440e+07</td>\n",
       "    </tr>\n",
       "    <tr>\n",
       "      <th>Babahoyo</th>\n",
       "      <td>1.774687e+07</td>\n",
       "    </tr>\n",
       "    <tr>\n",
       "      <th>Cayambe</th>\n",
       "      <td>2.832556e+07</td>\n",
       "    </tr>\n",
       "    <tr>\n",
       "      <th>Cuenca</th>\n",
       "      <td>4.916860e+07</td>\n",
       "    </tr>\n",
       "    <tr>\n",
       "      <th>Daule</th>\n",
       "      <td>1.918802e+07</td>\n",
       "    </tr>\n",
       "    <tr>\n",
       "      <th>El Carmen</th>\n",
       "      <td>1.105748e+07</td>\n",
       "    </tr>\n",
       "    <tr>\n",
       "      <th>Esmeraldas</th>\n",
       "      <td>1.639169e+07</td>\n",
       "    </tr>\n",
       "    <tr>\n",
       "      <th>Guaranda</th>\n",
       "      <td>1.304951e+07</td>\n",
       "    </tr>\n",
       "    <tr>\n",
       "      <th>Guayaquil</th>\n",
       "      <td>1.229673e+08</td>\n",
       "    </tr>\n",
       "    <tr>\n",
       "      <th>Ibarra</th>\n",
       "      <td>1.145127e+07</td>\n",
       "    </tr>\n",
       "    <tr>\n",
       "      <th>Latacunga</th>\n",
       "      <td>2.118226e+07</td>\n",
       "    </tr>\n",
       "    <tr>\n",
       "      <th>Libertad</th>\n",
       "      <td>1.532243e+07</td>\n",
       "    </tr>\n",
       "    <tr>\n",
       "      <th>Loja</th>\n",
       "      <td>1.886000e+07</td>\n",
       "    </tr>\n",
       "    <tr>\n",
       "      <th>Machala</th>\n",
       "      <td>3.338680e+07</td>\n",
       "    </tr>\n",
       "    <tr>\n",
       "      <th>Manta</th>\n",
       "      <td>1.391234e+07</td>\n",
       "    </tr>\n",
       "    <tr>\n",
       "      <th>Playas</th>\n",
       "      <td>7.676679e+06</td>\n",
       "    </tr>\n",
       "    <tr>\n",
       "      <th>Puyo</th>\n",
       "      <td>4.090202e+06</td>\n",
       "    </tr>\n",
       "    <tr>\n",
       "      <th>Quevedo</th>\n",
       "      <td>1.417850e+07</td>\n",
       "    </tr>\n",
       "    <tr>\n",
       "      <th>Quito</th>\n",
       "      <td>5.567418e+08</td>\n",
       "    </tr>\n",
       "    <tr>\n",
       "      <th>Riobamba</th>\n",
       "      <td>1.138792e+07</td>\n",
       "    </tr>\n",
       "    <tr>\n",
       "      <th>Salinas</th>\n",
       "      <td>1.142100e+07</td>\n",
       "    </tr>\n",
       "    <tr>\n",
       "      <th>Santo Domingo</th>\n",
       "      <td>3.583432e+07</td>\n",
       "    </tr>\n",
       "  </tbody>\n",
       "</table>\n",
       "</div>"
      ],
      "text/plain": [
       "                      sales\n",
       "city                       \n",
       "Ambato         4.030440e+07\n",
       "Babahoyo       1.774687e+07\n",
       "Cayambe        2.832556e+07\n",
       "Cuenca         4.916860e+07\n",
       "Daule          1.918802e+07\n",
       "El Carmen      1.105748e+07\n",
       "Esmeraldas     1.639169e+07\n",
       "Guaranda       1.304951e+07\n",
       "Guayaquil      1.229673e+08\n",
       "Ibarra         1.145127e+07\n",
       "Latacunga      2.118226e+07\n",
       "Libertad       1.532243e+07\n",
       "Loja           1.886000e+07\n",
       "Machala        3.338680e+07\n",
       "Manta          1.391234e+07\n",
       "Playas         7.676679e+06\n",
       "Puyo           4.090202e+06\n",
       "Quevedo        1.417850e+07\n",
       "Quito          5.567418e+08\n",
       "Riobamba       1.138792e+07\n",
       "Salinas        1.142100e+07\n",
       "Santo Domingo  3.583432e+07"
      ]
     },
     "execution_count": 32,
     "metadata": {},
     "output_type": "execute_result"
    }
   ],
   "source": [
    "train_store.groupby('city')['state','type','sales'].sum()"
   ]
  },
  {
   "cell_type": "code",
   "execution_count": 33,
   "id": "ecde39b1",
   "metadata": {},
   "outputs": [
    {
     "data": {
      "image/png": "[encoded data removed]",
      "text/plain": [
       "<Figure size 1440x1080 with 1 Axes>"
      ]
     },
     "metadata": {},
     "output_type": "display_data"
    }
   ],
   "source": [
    "from matplotlib.ticker import ScalarFormatter, FormatStrFormatter\n",
    "x=train_store.groupby('store_nbr')['city','type','sales'].sum()\n",
    "x=x.sort_values(by='sales',ascending=False)\n",
    "x=x.iloc[0:55].reset_index()\n",
    "\n",
    "plt.figure(figsize=(20,15))\n",
    "ax= sns.barplot( x.store_nbr ,x.sales, alpha=0.8,  palette=\"Spectral\")\n",
    "# annotation here\n",
    "for p in ax.patches:\n",
    "    ax.annotate(\"%.2f\" % round((p.get_height()/1000000),2), (p.get_x() + p.get_width() / 2., p.get_height()),\n",
    "                ha='center', va='center', fontsize=10, color='black', xytext=(0, 5),\n",
    "                textcoords='offset points')\n",
    "\n",
    "\n",
    "plt.ticklabel_format(style='plain', axis='y')\n",
    "plt.title(\"Sales per Store in Millions\", fontsize=20)\n",
    "plt.ylabel('Total Sales', fontsize=12)\n",
    "plt.xlabel('Store', fontsize=12)\n",
    "plt.show()"
   ]
  },
  {
   "cell_type": "code",
   "execution_count": null,
   "id": "486a7f59",
   "metadata": {},
   "outputs": [],
   "source": []
  }
 ],
 "metadata": {
  "kernelspec": {
   "display_name": "Python 3",
   "language": "python",
   "name": "python3"
  },
  "language_info": {
   "codemirror_mode": {
    "name": "ipython",
    "version": 3
   },
   "file_extension": ".py",
   "mimetype": "text/x-python",
   "name": "python",
   "nbconvert_exporter": "python",
   "pygments_lexer": "ipython3",
   "version": "3.8.8"
  }
 },
 "nbformat": 4,
 "nbformat_minor": 5
}
